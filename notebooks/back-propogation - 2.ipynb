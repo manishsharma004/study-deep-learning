{
 "cells": [
  {
   "cell_type": "code",
   "execution_count": 704,
   "id": "2191cb96",
   "metadata": {},
   "outputs": [],
   "source": [
    "# Imports\n",
    "import numpy as np\n",
    "from sklearn.datasets import load_iris\n",
    "from sklearn.model_selection import train_test_split\n",
    "from sklearn.preprocessing import OneHotEncoder, StandardScaler"
   ]
  },
  {
   "cell_type": "code",
   "execution_count": 705,
   "id": "2fae2919",
   "metadata": {},
   "outputs": [],
   "source": [
    "# Load the Iris dataset\n",
    "iris = load_iris()\n",
    "X = iris.data  # Features: sepal length, sepal width, petal length, petal width\n",
    "Y = iris.target.reshape(-1, 1)  # Labels: 0, 1, 2 (Setosa, Versicolor, Virginica)\n",
    "labels = iris.target_names"
   ]
  },
  {
   "cell_type": "code",
   "execution_count": 706,
   "id": "6623b13a",
   "metadata": {},
   "outputs": [],
   "source": [
    "# One-hot encode the labels\n",
    "ohe = OneHotEncoder()\n",
    "y = ohe.fit_transform(Y).toarray()"
   ]
  },
  {
   "cell_type": "code",
   "execution_count": 707,
   "id": "bb69376f",
   "metadata": {},
   "outputs": [],
   "source": [
    "# Standardize the features\n",
    "scaler = StandardScaler()\n",
    "X_scaler = scaler.fit_transform(X)"
   ]
  },
  {
   "cell_type": "code",
   "execution_count": 708,
   "id": "01e19651",
   "metadata": {},
   "outputs": [],
   "source": [
    "# Split into training and testing sets\n",
    "X_train, X_test, y_train, y_test = train_test_split(X_scaler, y, test_size=0.2, random_state=42)"
   ]
  },
  {
   "cell_type": "code",
   "execution_count": 709,
   "id": "a08ddf26",
   "metadata": {},
   "outputs": [],
   "source": [
    "# Initialize weights and biases\n",
    "np.random.seed(101)\n",
    "weights_input_hidden = np.random.rand(4, 5)  # 4 inputs, 5 hidden neurons\n",
    "weights_hidden_output = np.random.rand(5, 3)  # 5 hidden neurons, 3 outputs\n",
    "bias_hidden = np.random.rand(1, 5)\n",
    "bias_output = np.random.rand(1, 3)\n",
    "\n",
    "# Learning rate\n",
    "learning_rate = 0.1"
   ]
  },
  {
   "cell_type": "code",
   "execution_count": 710,
   "id": "35236df3",
   "metadata": {},
   "outputs": [],
   "source": [
    "# Sigmoid activation function and its derivative\n",
    "def sigmoid(x):\n",
    "    return 1 / (1 + np.exp(-x))\n",
    "\n",
    "def sigmoid_derivative(x):\n",
    "    return x * (1 - x)"
   ]
  },
  {
   "cell_type": "code",
   "execution_count": 711,
   "id": "3b8714a5",
   "metadata": {},
   "outputs": [
    {
     "name": "stdout",
     "output_type": "stream",
     "text": [
      "Test Accuracy (Before training): 36.67%\n"
     ]
    }
   ],
   "source": [
    "# Accuracy before training\n",
    "hidden_layer_input = np.dot(X_test, weights_input_hidden) + bias_hidden\n",
    "hidden_layer_output = sigmoid(hidden_layer_input)\n",
    "output_layer_input = np.dot(hidden_layer_output, weights_hidden_output) + bias_output\n",
    "predicted_output = sigmoid(output_layer_input)\n",
    "\n",
    "# Convert predictions to class labels\n",
    "predicted_labels = np.argmax(predicted_output, axis=1)\n",
    "true_labels = np.argmax(y_test, axis=1)\n",
    "\n",
    "# Print accuracy\n",
    "accuracy = np.mean(predicted_labels == true_labels)\n",
    "print(f\"Test Accuracy (Before training): {accuracy * 100:.2f}%\")"
   ]
  },
  {
   "cell_type": "code",
   "execution_count": 712,
   "id": "d94e14cb",
   "metadata": {},
   "outputs": [
    {
     "name": "stdout",
     "output_type": "stream",
     "text": [
      "Epoch 0, Loss: 0.5101023819377971\n",
      "Epoch 1000, Loss: 0.010054486794959822\n",
      "Epoch 2000, Loss: 0.009739696706334428\n",
      "Epoch 3000, Loss: 0.008963447699687637\n",
      "Epoch 4000, Loss: 0.007183897130438578\n",
      "Epoch 5000, Loss: 0.006425780816848915\n",
      "Epoch 6000, Loss: 0.006098731443873158\n",
      "Epoch 7000, Loss: 0.005928460866475487\n",
      "Epoch 8000, Loss: 0.005828042550146188\n",
      "Epoch 9000, Loss: 0.005761935280698391\n"
     ]
    }
   ],
   "source": [
    "# Initialize a list to store loss values\n",
    "loss_values = []\n",
    "\n",
    "# Training loop\n",
    "for epoch in range(10000):\n",
    "    # Forward pass\n",
    "    hidden_layer_input = np.dot(X_train, weights_input_hidden) + bias_hidden\n",
    "    hidden_layer_output = sigmoid(hidden_layer_input)\n",
    "\n",
    "    output_layer_input = np.dot(hidden_layer_output, weights_hidden_output) + bias_output\n",
    "    predicted_output = sigmoid(output_layer_input)\n",
    "\n",
    "    # Compute loss (Mean Squared Error)\n",
    "    loss = np.mean((y_train - predicted_output) ** 2)\n",
    "\n",
    "    # Backward pass\n",
    "    error_output_layer = y_train - predicted_output\n",
    "    delta_output_layer = error_output_layer * sigmoid_derivative(predicted_output)\n",
    "\n",
    "    error_hidden_layer = delta_output_layer.dot(weights_hidden_output.T)\n",
    "    delta_hidden_layer = error_hidden_layer * sigmoid_derivative(hidden_layer_output)\n",
    "\n",
    "    # Update weights and biases\n",
    "    weights_hidden_output += hidden_layer_output.T.dot(delta_output_layer) * learning_rate\n",
    "    weights_input_hidden += X_train.T.dot(delta_hidden_layer) * learning_rate\n",
    "    bias_output += np.sum(delta_output_layer, axis=0, keepdims=True) * learning_rate\n",
    "    bias_hidden += np.sum(delta_hidden_layer, axis=0, keepdims=True) * learning_rate\n",
    "\n",
    "    # Store the loss value for visualization\n",
    "    if epoch % 100 == 0:  # Store loss every 100 epochs\n",
    "      loss_values.append(loss)\n",
    "    \n",
    "    # Print loss every 1000 epochs\n",
    "    if epoch % 1000 == 0:\n",
    "        print(f\"Epoch {epoch}, Loss: {loss}\")"
   ]
  },
  {
   "cell_type": "code",
   "execution_count": 713,
   "id": "8ba1bfa3",
   "metadata": {},
   "outputs": [
    {
     "data": {
      "image/png": "[encoded data removed]",
      "text/plain": [
       "<Figure size 640x480 with 1 Axes>"
      ]
     },
     "metadata": {},
     "output_type": "display_data"
    }
   ],
   "source": [
    "# Visualization of loss values\n",
    "import matplotlib.pyplot as plt\n",
    "\n",
    "plt.plot(loss_values)\n",
    "plt.title('Loss over epochs')\n",
    "plt.xlabel('Epochs')\n",
    "plt.ylabel('Loss')\n",
    "plt.grid()\n",
    "plt.show()"
   ]
  },
  {
   "cell_type": "code",
   "execution_count": 714,
   "id": "18abc210",
   "metadata": {},
   "outputs": [
    {
     "name": "stdout",
     "output_type": "stream",
     "text": [
      "Test Accuracy: 100.00%\n"
     ]
    }
   ],
   "source": [
    "# Evaluate on the test set\n",
    "hidden_layer_input = np.dot(X_test, weights_input_hidden) + bias_hidden\n",
    "hidden_layer_output = sigmoid(hidden_layer_input)\n",
    "output_layer_input = np.dot(hidden_layer_output, weights_hidden_output) + bias_output\n",
    "predicted_output = sigmoid(output_layer_input)\n",
    "\n",
    "# Convert predictions to class labels\n",
    "predicted_labels = np.argmax(predicted_output, axis=1)\n",
    "true_labels = np.argmax(y_test, axis=1)\n",
    "\n",
    "# Print accuracy\n",
    "accuracy = np.mean(predicted_labels == true_labels)\n",
    "print(f\"Test Accuracy: {accuracy * 100:.2f}%\")\n"
   ]
  },
  {
   "cell_type": "code",
   "execution_count": 715,
   "id": "fb01b26e",
   "metadata": {},
   "outputs": [
    {
     "name": "stdout",
     "output_type": "stream",
     "text": [
      "Number of Incorrect Predictions: 0\n",
      "Incorrect Predictions: [[], []]\n"
     ]
    }
   ],
   "source": [
    "incorrect_prediction_indexes = np.where(predicted_labels != true_labels)[0]\n",
    "incorrect_predictions = [[predicted_labels[i] for i in incorrect_prediction_indexes], [true_labels[i] for i in incorrect_prediction_indexes]]\n",
    "print(\"Number of Incorrect Predictions:\", len(incorrect_prediction_indexes))\n",
    "print(\"Incorrect Predictions:\", incorrect_predictions)"
   ]
  }
 ],
 "metadata": {
  "kernelspec": {
   "display_name": "study-deep-learning",
   "language": "python",
   "name": "python3"
  },
  "language_info": {
   "codemirror_mode": {
    "name": "ipython",
    "version": 3
   },
   "file_extension": ".py",
   "mimetype": "text/x-python",
   "name": "python",
   "nbconvert_exporter": "python",
   "pygments_lexer": "ipython3",
   "version": "3.7.17"
  }
 },
 "nbformat": 4,
 "nbformat_minor": 5
}
